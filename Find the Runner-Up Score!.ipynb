{
 "cells": [
  {
   "cell_type": "markdown",
   "id": "fda411e6",
   "metadata": {},
   "source": [
    "Given the participants' score sheet for your University Sports Day, you are required to find the runner-up score. You are given  scores. Store them in a list and find the score of the runner-up.\n",
    "\n",
    "Input Format\n",
    "\n",
    "The first line contains . The second line contains an array A[]  of n integers each separated by a space.\n",
    "\n",
    "Constraints\n",
    "2<=n<=10\n",
    "-100<=A[i]<=100\n",
    "Output Format\n",
    "\n",
    "Print the runner-up score.\n",
    "\n",
    "Sample Input 0\n",
    "\n",
    "5\n",
    "2 3 6 6 5\n",
    "Sample Output 0\n",
    "\n",
    "5"
   ]
  },
  {
   "cell_type": "code",
   "execution_count": null,
   "id": "d11ca8c1",
   "metadata": {},
   "outputs": [],
   "source": [
    "if __name__ == '__main__':\n",
    "    n = int(input())\n",
    "    arr = map(int, input().split())\n",
    "    # Find the Runner-Up Score! in Python - Hacker Rank Solution START\n",
    "    print(sorted(list(set(arr)))[-2])\n"
   ]
  },
  {
   "cell_type": "code",
   "execution_count": null,
   "id": "7052ed50",
   "metadata": {},
   "outputs": [],
   "source": []
  }
 ],
 "metadata": {
  "kernelspec": {
   "display_name": "Python 3 (ipykernel)",
   "language": "python",
   "name": "python3"
  },
  "language_info": {
   "codemirror_mode": {
    "name": "ipython",
    "version": 3
   },
   "file_extension": ".py",
   "mimetype": "text/x-python",
   "name": "python",
   "nbconvert_exporter": "python",
   "pygments_lexer": "ipython3",
   "version": "3.9.6"
  }
 },
 "nbformat": 4,
 "nbformat_minor": 5
}
