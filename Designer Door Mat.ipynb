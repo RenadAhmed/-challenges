{
 "cells": [
  {
   "cell_type": "markdown",
   "id": "54852af2",
   "metadata": {},
   "source": [
    "Mr. Vincent works in a door mat manufacturing company. One day, he designed a new door mat with the following specifications:\n",
    "\n",
    "Mat size must be N X M. (N is an odd natural number, and M is 3 times N.)\n",
    "The design should have 'WELCOME' written in the center.\n",
    "The design pattern should only use |, . and - characters."
   ]
  },
  {
   "cell_type": "code",
   "execution_count": null,
   "id": "09af27e4",
   "metadata": {},
   "outputs": [],
   "source": [
    "N, M = map(int, input().split())\n",
    "for i in range(1, N, 2):\n",
    "    print(str('.|.' * i).center(M, '-'))\n",
    "print('WELCOME'.center(M, '-'))\n",
    "for i in range(N-2, -1, -2):\n",
    "    print(str('.|.' * i).center(M, '-'))\n"
   ]
  },
  {
   "cell_type": "code",
   "execution_count": null,
   "id": "de84b72f",
   "metadata": {},
   "outputs": [],
   "source": []
  }
 ],
 "metadata": {
  "kernelspec": {
   "display_name": "Python 3 (ipykernel)",
   "language": "python",
   "name": "python3"
  },
  "language_info": {
   "codemirror_mode": {
    "name": "ipython",
    "version": 3
   },
   "file_extension": ".py",
   "mimetype": "text/x-python",
   "name": "python",
   "nbconvert_exporter": "python",
   "pygments_lexer": "ipython3",
   "version": "3.9.6"
  }
 },
 "nbformat": 4,
 "nbformat_minor": 5
}
