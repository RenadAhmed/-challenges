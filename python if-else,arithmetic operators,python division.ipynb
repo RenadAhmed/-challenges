{
 "cells": [
  {
   "cell_type": "markdown",
   "id": "50d752e1",
   "metadata": {},
   "source": [
    "Task\n",
    "Given an integer, , perform the following conditional actions:\n",
    "\n",
    "If n is odd, print Weird\n",
    "If n is even and in the inclusive range 2 of 5 to , print Not Weird\n",
    "If n is even and in the inclusive range 6 of 20 to , print Weird\n",
    "If n is even and greater than 20 , print Not Weird\n",
    "Input Format\n",
    "\n",
    "A single line containing a positive integer,n .\n",
    "\n",
    "Output Format\n",
    "\n",
    "Print Weird if the number is weird. Otherwise, print Not Weird.\n",
    "\n",
    "Sample Input 0\n",
    "3\n",
    "Sample Output 0\n",
    "\n",
    "Weird\n"
   ]
  },
  {
   "cell_type": "code",
   "execution_count": 1,
   "id": "4af21402",
   "metadata": {
    "scrolled": true
   },
   "outputs": [
    {
     "name": "stdout",
     "output_type": "stream",
     "text": [
      "0\n"
     ]
    }
   ],
   "source": [
    "import math\n",
    "import os\n",
    "import random\n",
    "import re\n",
    "import sys\n",
    "\n",
    "\n",
    "\n",
    "if __name__ == '__main__':\n",
    "    n = int(input(\"\"))\n",
    "    if n%2==1:\n",
    "        print(\"Weird\")\n",
    "    elif n%2==0 and n in range(3,6):\n",
    "        print(\"Not Weird\")\n",
    "    elif n%2==0 and n in range(6,21):\n",
    "        print(\"Weird\")\n",
    "    elif n%2==0 and n>20:\n",
    "        print (\"Not Weird\")\n",
    "    \n",
    "        \n"
   ]
  },
  {
   "cell_type": "markdown",
   "id": "f00c689d",
   "metadata": {},
   "source": [
    "\n",
    "Task\n",
    "The provided code stub reads two integers from STDIN, a and b . Add code to print three lines where:\n",
    "\n",
    "The first line contains the sum of the two numbers.\n",
    "The second line contains the difference of the two numbers (first - second).\n",
    "The third line contains the product of the two numbers."
   ]
  },
  {
   "cell_type": "code",
   "execution_count": null,
   "id": "f47edb47",
   "metadata": {},
   "outputs": [],
   "source": [
    "a = int(input())\n",
    "b = int(input())\n",
    "\n",
    "print (a + b)\n",
    "print (a - b)\n",
    "print (a * b) \n"
   ]
  },
  {
   "cell_type": "markdown",
   "id": "e2c1c66a",
   "metadata": {},
   "source": [
    "Task\n",
    "The provided code stub reads two integers,  and , from STDIN.\n",
    "\n",
    "Add logic to print two lines. The first line should contain the result of integer division,a // b . The second line should contain the result of float division, a / b .\n",
    "\n",
    "No rounding or formatting is necessary.\n"
   ]
  },
  {
   "cell_type": "code",
   "execution_count": null,
   "id": "709cec46",
   "metadata": {},
   "outputs": [],
   "source": [
    "a = int(input())\n",
    "b = int(input())\n",
    "\n",
    "print (a // b)\n",
    "print (a / b)"
   ]
  },
  {
   "cell_type": "markdown",
   "id": "5a4c3368",
   "metadata": {},
   "source": []
  }
 ],
 "metadata": {
  "kernelspec": {
   "display_name": "Python 3 (ipykernel)",
   "language": "python",
   "name": "python3"
  },
  "language_info": {
   "codemirror_mode": {
    "name": "ipython",
    "version": 3
   },
   "file_extension": ".py",
   "mimetype": "text/x-python",
   "name": "python",
   "nbconvert_exporter": "python",
   "pygments_lexer": "ipython3",
   "version": "3.9.6"
  }
 },
 "nbformat": 4,
 "nbformat_minor": 5
}
